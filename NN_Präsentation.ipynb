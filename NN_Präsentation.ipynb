{
  "nbformat": 4,
  "nbformat_minor": 0,
  "metadata": {
    "colab": {
      "name": "NN_Präsentation.ipynb",
      "provenance": [],
      "collapsed_sections": [],
      "authorship_tag": "ABX9TyMf9FLEq8/V/zAosj51+yaE",
      "include_colab_link": true
    },
    "kernelspec": {
      "name": "python3",
      "display_name": "Python 3"
    }
  },
  "cells": [
    {
      "cell_type": "markdown",
      "metadata": {
        "id": "view-in-github",
        "colab_type": "text"
      },
      "source": [
        "<a href=\"https://colab.research.google.com/github/Imperius0299/nn_excercise/blob/main/NN_Pr%C3%A4sentation.ipynb\" target=\"_parent\"><img src=\"https://colab.research.google.com/assets/colab-badge.svg\" alt=\"Open In Colab\"/></a>"
      ]
    },
    {
      "cell_type": "code",
      "metadata": {
        "id": "0KqikD67hCkH"
      },
      "source": [
        "import tensorflow as tf\n",
        "\n",
        "(train_images, train_labels), (test_images, test_labels) = tf.keras.datasets.fashion_mnist.load_data()\n",
        "\n",
        "test_labels = test_labels == 0"
      ],
      "execution_count": 92,
      "outputs": []
    },
    {
      "cell_type": "code",
      "metadata": {
        "colab": {
          "base_uri": "https://localhost:8080/"
        },
        "id": "DQhH_NzWhNJ6",
        "outputId": "4c896364-27c8-4363-c55b-9d10ae6efc64"
      },
      "source": [
        "train_images.shape"
      ],
      "execution_count": 93,
      "outputs": [
        {
          "output_type": "execute_result",
          "data": {
            "text/plain": [
              "(60000, 28, 28)"
            ]
          },
          "metadata": {
            "tags": []
          },
          "execution_count": 93
        }
      ]
    },
    {
      "cell_type": "code",
      "metadata": {
        "colab": {
          "base_uri": "https://localhost:8080/",
          "height": 282
        },
        "id": "nFN339KhhNSp",
        "outputId": "a9b1515b-467b-4596-e64f-89773d5d200c"
      },
      "source": [
        "%matplotlib inline \n",
        "import matplotlib.pyplot as plt\n",
        "\n",
        "plt.imshow(train_images[1], cmap=\"gray_r\")\n",
        "plt.show"
      ],
      "execution_count": 94,
      "outputs": [
        {
          "output_type": "execute_result",
          "data": {
            "text/plain": [
              "<function matplotlib.pyplot.show>"
            ]
          },
          "metadata": {
            "tags": []
          },
          "execution_count": 94
        },
        {
          "output_type": "display_data",
          "data": {
            "image/png": "[encoded data removed]",
            "text/plain": [
              "<Figure size 432x288 with 1 Axes>"
            ]
          },
          "metadata": {
            "tags": [],
            "needs_background": "light"
          }
        }
      ]
    },
    {
      "cell_type": "code",
      "metadata": {
        "colab": {
          "base_uri": "https://localhost:8080/"
        },
        "id": "D1uw7nvHhNXu",
        "outputId": "33741b99-a8be-4d0a-f785-b99a7c515b60"
      },
      "source": [
        "train_labels = train_labels == 0 #hier werden die Zielwerte auf das T-Shirt festgelegt\n",
        "print(train_labels)"
      ],
      "execution_count": 95,
      "outputs": [
        {
          "output_type": "stream",
          "text": [
            "[False  True  True ... False  True False]\n"
          ],
          "name": "stdout"
        }
      ]
    },
    {
      "cell_type": "code",
      "metadata": {
        "id": "kRwx9SPCiTV9"
      },
      "source": [
        "from tensorflow.keras.models import Sequential\n",
        "from tensorflow.keras.layers import Dense"
      ],
      "execution_count": 96,
      "outputs": []
    },
    {
      "cell_type": "code",
      "metadata": {
        "id": "zZ4mKr42hNaY"
      },
      "source": [
        "model = Sequential()\n",
        "\n",
        "model.add(Dense(100, activation=\"sigmoid\", input_shape=(784,)))\n",
        "model.add(Dense(1, activation=\"sigmoid\"))\n",
        "\n",
        "model.compile(optimizer=\"sgd\", loss=\"binary_crossentropy\", metrics=[\"accuracy\", tf.keras.metrics.SpecificityAtSensitivity(0.5)])"
      ],
      "execution_count": 97,
      "outputs": []
    },
    {
      "cell_type": "code",
      "metadata": {
        "colab": {
          "base_uri": "https://localhost:8080/"
        },
        "id": "PtHShs74hNdc",
        "outputId": "b921fa29-f040-4cc8-d332-35aacb82ca53"
      },
      "source": [
        "model.fit(train_images.reshape(60000, 784),\n",
        "          train_labels,\n",
        "          epochs=10,\n",
        "          batch_size=1000)"
      ],
      "execution_count": 99,
      "outputs": [
        {
          "output_type": "stream",
          "text": [
            "Epoch 1/10\n",
            "60/60 [==============================] - 1s 13ms/step - loss: 0.1289 - accuracy: 0.9531 - specificity_at_sensitivity_5: 0.9934\n",
            "Epoch 2/10\n",
            "60/60 [==============================] - 1s 13ms/step - loss: 0.1259 - accuracy: 0.9535 - specificity_at_sensitivity_5: 0.9939\n",
            "Epoch 3/10\n",
            "60/60 [==============================] - 1s 13ms/step - loss: 0.1231 - accuracy: 0.9543 - specificity_at_sensitivity_5: 0.9939\n",
            "Epoch 4/10\n",
            "60/60 [==============================] - 1s 14ms/step - loss: 0.1211 - accuracy: 0.9547 - specificity_at_sensitivity_5: 0.9941\n",
            "Epoch 5/10\n",
            "60/60 [==============================] - 1s 14ms/step - loss: 0.1196 - accuracy: 0.9546 - specificity_at_sensitivity_5: 0.9942\n",
            "Epoch 6/10\n",
            "60/60 [==============================] - 1s 13ms/step - loss: 0.1180 - accuracy: 0.9552 - specificity_at_sensitivity_5: 0.9941\n",
            "Epoch 7/10\n",
            "60/60 [==============================] - 1s 13ms/step - loss: 0.1162 - accuracy: 0.9555 - specificity_at_sensitivity_5: 0.9947\n",
            "Epoch 8/10\n",
            "60/60 [==============================] - 1s 13ms/step - loss: 0.1147 - accuracy: 0.9558 - specificity_at_sensitivity_5: 0.9947\n",
            "Epoch 9/10\n",
            "60/60 [==============================] - 1s 14ms/step - loss: 0.1137 - accuracy: 0.9561 - specificity_at_sensitivity_5: 0.9949\n",
            "Epoch 10/10\n",
            "60/60 [==============================] - 1s 13ms/step - loss: 0.1126 - accuracy: 0.9565 - specificity_at_sensitivity_5: 0.9949\n"
          ],
          "name": "stdout"
        },
        {
          "output_type": "execute_result",
          "data": {
            "text/plain": [
              "<tensorflow.python.keras.callbacks.History at 0x7f26b0471a90>"
            ]
          },
          "metadata": {
            "tags": []
          },
          "execution_count": 99
        }
      ]
    },
    {
      "cell_type": "code",
      "metadata": {
        "colab": {
          "base_uri": "https://localhost:8080/",
          "height": 333
        },
        "id": "1LvbckBYksz9",
        "outputId": "78d61afd-7c4d-43b2-ef8e-218831893df0"
      },
      "source": [
        "image_num = 10\n",
        "x = model.predict(train_images[image_num].reshape(-1,784))\n",
        "print(x)\n",
        "print(\"Wahrscheinlichkeit das es sich um ein T-Shirt handelt beträgt {percent:.2f} % \\n\".format(percent = x[0][0] * 100))\n",
        "\n",
        "%matplotlib inline \n",
        "import matplotlib.pyplot as plt\n",
        "\n",
        "plt.imshow(train_images[image_num], cmap=\"gray_r\")\n",
        "plt.show"
      ],
      "execution_count": 100,
      "outputs": [
        {
          "output_type": "stream",
          "text": [
            "[[0.83322567]]\n",
            "Wahrscheinlichkeit das es sich um ein T-Shirt handelt beträgt 83.32 % \n",
            "\n"
          ],
          "name": "stdout"
        },
        {
          "output_type": "execute_result",
          "data": {
            "text/plain": [
              "<function matplotlib.pyplot.show>"
            ]
          },
          "metadata": {
            "tags": []
          },
          "execution_count": 100
        },
        {
          "output_type": "display_data",
          "data": {
            "image/png": "[encoded data removed]",
            "text/plain": [
              "<Figure size 432x288 with 1 Axes>"
            ]
          },
          "metadata": {
            "tags": [],
            "needs_background": "light"
          }
        }
      ]
    },
    {
      "cell_type": "code",
      "metadata": {
        "colab": {
          "base_uri": "https://localhost:8080/"
        },
        "id": "LdAOynwshNgG",
        "outputId": "d7b76daa-d3f9-4224-9517-497a23317fc0"
      },
      "source": [
        "model.evaluate(train_images.reshape(60000, 784), train_labels)"
      ],
      "execution_count": 101,
      "outputs": [
        {
          "output_type": "stream",
          "text": [
            "1875/1875 [==============================] - 2s 1ms/step - loss: 0.1119 - accuracy: 0.9562 - specificity_at_sensitivity_5: 0.9949\n"
          ],
          "name": "stdout"
        },
        {
          "output_type": "execute_result",
          "data": {
            "text/plain": [
              "[0.11186663061380386, 0.9562333226203918, 0.9948703646659851]"
            ]
          },
          "metadata": {
            "tags": []
          },
          "execution_count": 101
        }
      ]
    },
    {
      "cell_type": "code",
      "metadata": {
        "colab": {
          "base_uri": "https://localhost:8080/"
        },
        "id": "FGpxPRyVqjSz",
        "outputId": "db685498-f69b-4458-d082-b13291adcd32"
      },
      "source": [
        "model.evaluate(test_images.reshape(10000,784), test_labels)#batch_size=1000)"
      ],
      "execution_count": 103,
      "outputs": [
        {
          "output_type": "stream",
          "text": [
            "313/313 [==============================] - 1s 2ms/step - loss: 0.1185 - accuracy: 0.9553 - specificity_at_sensitivity_5: 0.9948\n"
          ],
          "name": "stdout"
        },
        {
          "output_type": "execute_result",
          "data": {
            "text/plain": [
              "[0.11845438182353973, 0.955299973487854, 0.9947777986526489]"
            ]
          },
          "metadata": {
            "tags": []
          },
          "execution_count": 103
        }
      ]
    },
    {
      "cell_type": "code",
      "metadata": {
        "id": "cqrsRXV0hNio"
      },
      "source": [
        "model.metrics_names"
      ],
      "execution_count": null,
      "outputs": []
    },
    {
      "cell_type": "code",
      "metadata": {
        "id": "Yp7llHFwhNon"
      },
      "source": [
        ""
      ],
      "execution_count": null,
      "outputs": []
    },
    {
      "cell_type": "code",
      "metadata": {
        "id": "mz8PabVUhNqj"
      },
      "source": [
        ""
      ],
      "execution_count": null,
      "outputs": []
    },
    {
      "cell_type": "code",
      "metadata": {
        "id": "JD4WxLeIhNtT"
      },
      "source": [
        ""
      ],
      "execution_count": null,
      "outputs": []
    },
    {
      "cell_type": "code",
      "metadata": {
        "id": "11grNOwQhNv9"
      },
      "source": [
        ""
      ],
      "execution_count": null,
      "outputs": []
    },
    {
      "cell_type": "code",
      "metadata": {
        "id": "SiRrsSDQhNyn"
      },
      "source": [
        ""
      ],
      "execution_count": null,
      "outputs": []
    },
    {
      "cell_type": "code",
      "metadata": {
        "id": "oXKVgVLNhN0t"
      },
      "source": [
        ""
      ],
      "execution_count": null,
      "outputs": []
    }
  ]
}