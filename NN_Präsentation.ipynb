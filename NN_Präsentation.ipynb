{
  "nbformat": 4,
  "nbformat_minor": 0,
  "metadata": {
    "colab": {
      "name": "NN_Präsentation.ipynb",
      "provenance": [],
      "collapsed_sections": [],
      "authorship_tag": "ABX9TyN+h4YT/vQBB/R+llo2AmqM",
      "include_colab_link": true
    },
    "kernelspec": {
      "name": "python3",
      "display_name": "Python 3"
    }
  },
  "cells": [
    {
      "cell_type": "markdown",
      "metadata": {
        "id": "view-in-github",
        "colab_type": "text"
      },
      "source": [
        "<a href=\"https://colab.research.google.com/github/Imperius0299/nn_excercise/blob/main/NN_Pr%C3%A4sentation.ipynb\" target=\"_parent\"><img src=\"https://colab.research.google.com/assets/colab-badge.svg\" alt=\"Open In Colab\"/></a>"
      ]
    },
    {
      "cell_type": "markdown",
      "metadata": {
        "id": "lj_6WDsZRgnc"
      },
      "source": [
        "###Neuronales Netz was herausfindem soll, ob es sich bei einem Bild um ein T-Shirt handelt"
      ]
    },
    {
      "cell_type": "code",
      "metadata": {
        "id": "0KqikD67hCkH"
      },
      "source": [
        "import tensorflow as tf\n",
        "\n",
        "#Trainingsdaten und Testdaten werden geladen\n",
        "(train_images, train_labels), (test_images, test_labels) = tf.keras.datasets.fashion_mnist.load_data()\n",
        "\n",
        "#Alle Testlabels die nicht die Kategorie T-shirt(0) haben, werden auf False gesetzt, der Rest auf True\n",
        "test_labels = test_labels == 0   "
      ],
      "execution_count": null,
      "outputs": []
    },
    {
      "cell_type": "code",
      "metadata": {
        "colab": {
          "base_uri": "https://localhost:8080/"
        },
        "id": "DQhH_NzWhNJ6",
        "outputId": "27e7a92c-cf25-431b-8bf6-086fe942caa4"
      },
      "source": [
        "train_images.shape"
      ],
      "execution_count": null,
      "outputs": [
        {
          "output_type": "execute_result",
          "data": {
            "text/plain": [
              "(60000, 28, 28)"
            ]
          },
          "metadata": {
            "tags": []
          },
          "execution_count": 9
        }
      ]
    },
    {
      "cell_type": "markdown",
      "metadata": {
        "id": "55oY4adkRrmm"
      },
      "source": [
        ""
      ]
    },
    {
      "cell_type": "code",
      "metadata": {
        "colab": {
          "base_uri": "https://localhost:8080/",
          "height": 282
        },
        "id": "nFN339KhhNSp",
        "outputId": "42985a35-ce76-4afb-fc67-f7a74099c3b6"
      },
      "source": [
        "#Anzeigen eines Bildes\n",
        "%matplotlib inline \n",
        "import matplotlib.pyplot as plt\n",
        "\n",
        "plt.imshow(train_images[1], cmap=\"gray_r\")\n",
        "plt.show"
      ],
      "execution_count": null,
      "outputs": [
        {
          "output_type": "execute_result",
          "data": {
            "text/plain": [
              "<function matplotlib.pyplot.show>"
            ]
          },
          "metadata": {
            "tags": []
          },
          "execution_count": 10
        },
        {
          "output_type": "display_data",
          "data": {
            "image/png": "[encoded data removed]",
            "text/plain": [
              "<Figure size 432x288 with 1 Axes>"
            ]
          },
          "metadata": {
            "tags": [],
            "needs_background": "light"
          }
        }
      ]
    },
    {
      "cell_type": "code",
      "metadata": {
        "colab": {
          "base_uri": "https://localhost:8080/"
        },
        "id": "D1uw7nvHhNXu",
        "outputId": "347e86d0-597c-48db-e242-124a54e8ae0c"
      },
      "source": [
        "#hier werden die Zielwerte auf das T-Shirt festgelegt, das selbe wie oben bei den Test Daten\n",
        "train_labels = train_labels == 0 \n",
        "print(train_labels)"
      ],
      "execution_count": null,
      "outputs": [
        {
          "output_type": "stream",
          "text": [
            "[False  True  True ... False  True False]\n"
          ],
          "name": "stdout"
        }
      ]
    },
    {
      "cell_type": "code",
      "metadata": {
        "id": "kRwx9SPCiTV9"
      },
      "source": [
        "from tensorflow.keras.models import Sequential\n",
        "from tensorflow.keras.layers import Dense"
      ],
      "execution_count": null,
      "outputs": []
    },
    {
      "cell_type": "code",
      "metadata": {
        "id": "zZ4mKr42hNaY"
      },
      "source": [
        "#Neuronales Netz erstellen, mit einem Hidden-Layer mit 100 Neuronen, einem Output, und 784 Inputs(28*28, da jedes Pixel einzeln gesehen wird)\n",
        "model = Sequential()\n",
        "\n",
        "model.add(Dense(100, activation=\"sigmoid\", input_shape=(784,)))\n",
        "model.add(Dense(1, activation=\"sigmoid\"))\n",
        "\n",
        "model.compile(optimizer=\"sgd\", loss=\"binary_crossentropy\", metrics=[\"accuracy\", tf.keras.metrics.SpecificityAtSensitivity(0.5)])"
      ],
      "execution_count": null,
      "outputs": []
    },
    {
      "cell_type": "code",
      "metadata": {
        "id": "PtHShs74hNdc"
      },
      "source": [
        "#Trainieren des Models, je Mehr Epochen, desto niedriger die Kosten und desto besser die Genauigkeit\n",
        "model.fit(train_images.reshape(60000, 784),\n",
        "          train_labels,\n",
        "          epochs=1,\n",
        "          batch_size=1000)"
      ],
      "execution_count": null,
      "outputs": []
    },
    {
      "cell_type": "code",
      "metadata": {
        "id": "1LvbckBYksz9"
      },
      "source": [
        "#Vorhersage eines Wertes, image_num = Index des Boldes in der Liste um es Anzuzeigen und vorherzusagen\n",
        "image_num = 10\n",
        "x = model.predict(train_images[image_num].reshape(-1,784))\n",
        "print(x)\n",
        "print(\"Wahrscheinlichkeit das es sich um ein T-Shirt handelt beträgt {percent:.2f} % \\n\".format(percent = x[0][0] * 100))\n",
        "\n",
        "%matplotlib inline \n",
        "import matplotlib.pyplot as plt\n",
        "\n",
        "plt.imshow(train_images[image_num], cmap=\"gray_r\")\n",
        "plt.show"
      ],
      "execution_count": null,
      "outputs": []
    },
    {
      "cell_type": "code",
      "metadata": {
        "id": "LdAOynwshNgG"
      },
      "source": [
        "#Prüfen des Trainingsdatensatzes auf Genauigkeit mit dem Model, erste Zahl ist die Anzahl der Bilder, zweite ist Inputanzahl\n",
        "model.evaluate(train_images.reshape(60000, 784), train_labels)"
      ],
      "execution_count": null,
      "outputs": []
    },
    {
      "cell_type": "code",
      "metadata": {
        "id": "FGpxPRyVqjSz"
      },
      "source": [
        "#Prüfen des Testdatensatzes auf Genauigkeit mit dem Model\n",
        "model.evaluate(test_images.reshape(10000,784), test_labels)#batch_size=1000)"
      ],
      "execution_count": null,
      "outputs": []
    },
    {
      "cell_type": "code",
      "metadata": {
        "id": "cqrsRXV0hNio"
      },
      "source": [
        "model.metrics_names"
      ],
      "execution_count": null,
      "outputs": []
    }
  ]
}